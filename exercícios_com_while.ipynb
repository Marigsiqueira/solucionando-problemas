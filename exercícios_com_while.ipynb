{
  "nbformat": 4,
  "nbformat_minor": 0,
  "metadata": {
    "colab": {
      "provenance": [],
      "authorship_tag": "ABX9TyNLnLChtriW2P3R4iT0pIxX",
      "include_colab_link": true
    },
    "kernelspec": {
      "name": "python3",
      "display_name": "Python 3"
    },
    "language_info": {
      "name": "python"
    }
  },
  "cells": [
    {
      "cell_type": "markdown",
      "metadata": {
        "id": "view-in-github",
        "colab_type": "text"
      },
      "source": [
        "<a href=\"https://colab.research.google.com/github/Marigsiqueira/solucionando-problemas/blob/main/exerc%C3%ADcios_com_while.ipynb\" target=\"_parent\"><img src=\"https://colab.research.google.com/assets/colab-badge.svg\" alt=\"Open In Colab\"/></a>"
      ]
    },
    {
      "cell_type": "code",
      "execution_count": null,
      "metadata": {
        "id": "HvjlXGC1b6C1"
      },
      "outputs": [],
      "source": [
        "#O usuário deve  digitar um valor de 1 a 9. O programa deve informar erro e manter a leitura enquanto o valor digitado não atender ao intervalo solicitado.\n",
        "\n",
        "valor=0 \n",
        "while valor <1 or valor >9:\n",
        "  valor= int(input(\"Digite um valor\"))\n",
        "  print(\"Informação recebida\")\n",
        "  if valor <1 or valor >9:\n",
        "    print(\"Digite novamente\")"
      ]
    },
    {
      "cell_type": "code",
      "source": [
        "#outra opção para o exercício anterior:\n",
        "\n",
        "valor= int(input(\"Digite um valor: \"))\n",
        "while valor <1 or valor >9:\n",
        "  if valor <1 or valor >9:\n",
        "    print(\"Error! Digite novamente \")\n",
        "  valor= int(input(\"Digite um valor: \"))"
      ],
      "metadata": {
        "id": "RXtVkFf0eaCC"
      },
      "execution_count": null,
      "outputs": []
    },
    {
      "cell_type": "code",
      "source": [
        "#5+10+7+3 somatória\n",
        "\n",
        "c=1 #contagem é indicado começar em 1 ; esse valor é definido no incio pois a variavel tem q existir com algum valor de inicio para inseri-lá no while, esse valor normalmente é neutro, para conseguir fazer a repetição na ordem correta do 1 ou do 0\n",
        "soma=0 #valor neutro da soma é 0\n",
        "while c<=4:\n",
        "  N= int(input(\"Valor? \"))\n",
        "  soma= soma+N \n",
        "  c=c+1\n",
        "print(\"Somatória:\", soma)\n",
        "\n"
      ],
      "metadata": {
        "id": "BMdNrarVm2Hc"
      },
      "execution_count": null,
      "outputs": []
    }
  ]
}