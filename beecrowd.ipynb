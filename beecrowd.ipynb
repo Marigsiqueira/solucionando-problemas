{
  "nbformat": 4,
  "nbformat_minor": 0,
  "metadata": {
    "colab": {
      "provenance": [],
      "authorship_tag": "ABX9TyNI8oUH58Hw6PG9VcT87sgZ",
      "include_colab_link": true
    },
    "kernelspec": {
      "name": "python3",
      "display_name": "Python 3"
    },
    "language_info": {
      "name": "python"
    }
  },
  "cells": [
    {
      "cell_type": "markdown",
      "metadata": {
        "id": "view-in-github",
        "colab_type": "text"
      },
      "source": [
        "<a href=\"https://colab.research.google.com/github/Marigsiqueira/solucionando-problemas/blob/main/beecrowd.ipynb\" target=\"_parent\"><img src=\"https://colab.research.google.com/assets/colab-badge.svg\" alt=\"Open In Colab\"/></a>"
      ]
    },
    {
      "cell_type": "code",
      "execution_count": null,
      "metadata": {
        "id": "oeTbRrRksujy"
      },
      "outputs": [],
      "source": [
        "#Desenhe um fluxograma e implemente um programa em Python que recebe três números inteiros e informe se são números consecutivos em ordem crescente.\n",
        "A=int(input(\"Primeiro Número:\"))\n",
        "B=int(input(\"Segundo Número:\"))\n",
        "C=int(input(\"Terceiro Número:\"))\n",
        "\n",
        "if A<B<C:\n",
        "  print(\"São números consecutivos\")\n",
        "else:\n",
        "  print(\"Não são números consecutivos\")"
      ]
    },
    {
      "cell_type": "code",
      "source": [
        "#Identificar se um número é par ou é ímpar\n",
        "A=int(input())\n",
        "r=A%2\n",
        "if r==0:\n",
        "  \n",
        " print(\"É par\")\n",
        "else:\n",
        " print(\"É impar\")"
      ],
      "metadata": {
        "id": "4XyHawnZ7yUz"
      },
      "execution_count": null,
      "outputs": []
    }
  ]
}