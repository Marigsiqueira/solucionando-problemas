{
  "nbformat": 4,
  "nbformat_minor": 0,
  "metadata": {
    "colab": {
      "provenance": [],
      "authorship_tag": "ABX9TyN/Y4lCqHfUiUun32K71rnR",
      "include_colab_link": true
    },
    "kernelspec": {
      "name": "python3",
      "display_name": "Python 3"
    },
    "language_info": {
      "name": "python"
    }
  },
  "cells": [
    {
      "cell_type": "markdown",
      "metadata": {
        "id": "view-in-github",
        "colab_type": "text"
      },
      "source": [
        "<a href=\"https://colab.research.google.com/github/Marigsiqueira/solucionando-problemas/blob/main/beecrwod.ipynb\" target=\"_parent\"><img src=\"https://colab.research.google.com/assets/colab-badge.svg\" alt=\"Open In Colab\"/></a>"
      ]
    },
    {
      "cell_type": "code",
      "execution_count": null,
      "metadata": {
        "id": "oDtGUJ8Z6w2B"
      },
      "outputs": [],
      "source": [
        "#calcular o produto de dois valores inteiros(d).\n",
        "\n",
        "A= int(input(\"Digite um valor: \"))\n",
        "B= int(input(\"Digite outro valor: \"))\n",
        "PROD= A*B\n",
        "print(\"PROD = %d\" % PROD)"
      ]
    },
    {
      "cell_type": "code",
      "source": [
        "#Ler 2 valores de ponto flutuante (A e B) que correspondem a 2 notas de um aluno. Calucular a média sabendo que A tem peso 3.5 e B tem peso 7.5\n",
        "#(exercicio de média ponderada) a média é calculada pela multiplicação de cada nota com seus respectivos pesos; depois somadas;\n",
        "#depois divididas por 11 (soma dos pesos).\n",
        "\n",
        "A=float(input(\"Digite a primeira nota: \"))\n",
        "B=float(input(\"Digite a segunda nota: \"))\n",
        "MEDIA= (A*3.5 + B*7.5)/11\n",
        "print(\"MEDIA= %5f\" % MEDIA)\n",
        "\n"
      ],
      "metadata": {
        "id": "fxGbDa9rfQoJ"
      },
      "execution_count": null,
      "outputs": []
    },
    {
      "cell_type": "code",
      "source": [
        "#Ler 3 valores que correspondem a notas de um aluno (A,B,C) Calcular a media sabendo que A tem peso 2, B tem peso 3, C tem peso 5.\n",
        "\n",
        "A=int(input(\"Digite a primeira nota: \"))\n",
        "B=int(input(\"Digite a segunda nota: \"))\n",
        "C=int(input(\"Digite a terceira nota: \"))\n",
        "MEDIA= (A*2 + B*3 + C*5)/10\n",
        "print(\"MEDIA = %1d\" % MEDIA)"
      ],
      "metadata": {
        "id": "HwC-BoLgg7Oe"
      },
      "execution_count": null,
      "outputs": []
    },
    {
      "cell_type": "code",
      "source": [
        "NUMBER=int(input())\n",
        "B=int(input())\n",
        "C=float(input())\n",
        "\n",
        "SALARY= B*C\n",
        "\n",
        "print(\"NUMBER = %d\" %NUMBER)\n",
        "print(\"SALARY = U$ %f\" %SALARY)"
      ],
      "metadata": {
        "id": "KSv2CTgQup31"
      },
      "execution_count": null,
      "outputs": []
    },
    {
      "cell_type": "code",
      "source": [
        "#Faça um programa que leia o nome de um vendedor, o seu salário fixo e o total de vendas efetuadas por ele no mês (em dinheiro). \n",
        "#Sabendo que este vendedor ganha 15% de comissão sobre suas vendas efetuadas, informar o total a receber no final do mês, com duas casas decimais.\n",
        "\n",
        "Nome= input(\"Digite o nome do vendedor: \")\n",
        "Salario_fixo= float(input(\"Digite o valor do salário do vendedor: \"))\n",
        "Vendas=float(input(\"Digite o total de vendas efetuadas: \"))\n",
        "\n",
        "Salario_final= Vendas*0.15+Salario_fixo\n",
        "\n",
        "print(\"Salario_final = %.2f\" %Salario_final)"
      ],
      "metadata": {
        "id": "3sbErIfjFHwn"
      },
      "execution_count": null,
      "outputs": []
    },
    {
      "cell_type": "code",
      "source": [
        "#ler o código de uma peça 1, o número de peças 1, o valor unitário de cada peça 1, o código de uma peça 2, o número de peças 2 e o valor unitário de cada peça 2. \n",
        "#Após, calcule e mostre o valor a ser pago.\n",
        "#O arquivo de entrada contém duas linhas de dados. Em cada linha haverá 3 valores, respectivamente dois inteiros e um valor com 2 casas decimais.\n",
        "\n",
        "linha1= input() .split() #o split irá quebrar a string que será digitada no input \n",
        "\n",
        "codp1= int(linha1[0]) #se for digitado na variavel linha1: 2, 3 e 4.00, a variável codp1 irá chamar o número inteiro digitado na linha1 na casinha 0, que é o n°2\n",
        "np1= int(linha1[1]) #se for digitado na variavel linha1: 2, 3 e 4.00, a variável np1 irá chamar o número inteiro digitado na linha1 na casinha 1, que é o n°3\n",
        "vu1= float(linha1[2])#se for digitado na variavel linha1: 2, 3 e 4.00, a variável vu1 irá chamar o número flutuante digitado na linha1 na casinha 2, que é o n°4.00\n",
        "\n",
        "total1= np1 *vu1 \n",
        "\n",
        "linha2=input() .split() \n",
        "\n",
        "codp2= int(linha2[0]) #mesma interpretação da linha1. \n",
        "np2= int(linha2[1])\n",
        "vu2= float(linha2[2])\n",
        "\n",
        "total2= np2*vu2\n",
        "\n",
        "total_compra= total1+total2\n",
        "\n",
        "print(\"VALOR A PAGAR: R$ %.2f\" %total_compra)"
      ],
      "metadata": {
        "id": "r86XBy8119h0"
      },
      "execution_count": null,
      "outputs": []
    },
    {
      "cell_type": "code",
      "source": [
        "#Programa que calcule e mostre o volume de uma esfera sendo fornecido o valor de seu raio (R). A fórmula para calcular o volume é: (4/3) * pi * R3. \n",
        "#Considere (atribua) para pi o valor 3.14159.\n",
        "\n",
        "R=float(input())\n",
        "pi=3.14159\n",
        "\n",
        "VOLUME= (4.0/3)*pi*R**3\n",
        "\n",
        "print(\"VOLUME = %.3f\" %VOLUME)"
      ],
      "metadata": {
        "id": "BSnJaKzt_4O6"
      },
      "execution_count": null,
      "outputs": []
    },
    {
      "cell_type": "code",
      "source": [
        "#Escreva um programa que leia três valores com ponto flutuante de dupla precisão: A, B e C. Em seguida, calcule e mostre:\n",
        "#a) a área do triângulo retângulo que tem A por base e C por altura.\n",
        "#b) a área do círculo de raio C. (pi = 3.14159)\n",
        "#c) a área do trapézio que tem A e B por bases e C por altura.\n",
        "#d) a área do quadrado que tem lado B.\n",
        "#e) a área do retângulo que tem lados A e B.\n",
        "\n",
        "valores= input() .split()\n",
        "\n",
        "A= float (valores[0])\n",
        "B= float(valores[1])\n",
        "C= float(valores[2])\n",
        "pi = 3.14159\n",
        "\n",
        "AREA_TRIANGULO= (A*C)/2\n",
        "AREA_CIRCULO= pi*C**2\n",
        "AREA_TRAPEZIO= (A+B)*C/2\n",
        "AREA_QUADRADO= B*B\n",
        "AREA_RETANGULO= A*B\n",
        "\n",
        "print(\"TRIANGULO: %.3f\" %AREA_TRIANGULO)\n",
        "print(\"CIRCULO: %.3f\" %AREA_CIRCULO)\n",
        "print(\"TRAPEZIO: %.3f\" %AREA_TRAPEZIO)\n",
        "print(\"QUADRADO: %.3f\" %AREA_QUADRADO)\n",
        "print(\"RETANGULO: %.3f\" %AREA_RETANGULO)"
      ],
      "metadata": {
        "id": "bw5Hdd6O09Nb"
      },
      "execution_count": null,
      "outputs": []
    },
    {
      "cell_type": "code",
      "source": [
        "#1035\n",
        "#Leia 4 valores inteiros A, B, C e D. A seguir, se B for maior do que C e se D for maior do que A, e a soma de C com D for maior que a soma de A e B e se C e D, \n",
        "#ambos, forem positivos e se a variável A for par escrever a mensagem \"Valores aceitos\", senão escrever \"Valores nao aceitos\"\n",
        "valores= input() .split()\n",
        "A= int(valores[0])\n",
        "B= int(valores[1])\n",
        "C= int(valores[2])\n",
        "D= int(valores[3])\n",
        "\n",
        "if B>C and D>A and C+D>A+B and C>0 and D>0 and A % 2==0:\n",
        " print(\"Valores aceitos\")\n",
        "else:\n",
        " print(\"Valores não aceitos\")"
      ],
      "metadata": {
        "id": "NUOpdR7l_mBo"
      },
      "execution_count": null,
      "outputs": []
    },
    {
      "cell_type": "code",
      "source": [
        "#Calculo fórmula de bhaskara\n",
        "from math import sqrt\n",
        "\n",
        "valores= input() .split()\n",
        "\n",
        "a=float(valores[0])\n",
        "b=float(valores[1])\n",
        "c= float(valores[2])\n",
        "\n",
        "delta= b**2 - 4*a*c\n",
        "\n",
        "if a==0 or delta <0:\n",
        "    print(\"Impossivel calcular\")\n",
        "\n",
        "else:\n",
        "  x1 = (-b + sqrt(delta)) / (2*a)\n",
        "  x2 = (-b - sqrt(delta)) / (2*a)\n",
        "  print(\"R1 = %.5f\" %x1)\n",
        "  print(\"R2 = %.5f\" %x2)\n",
        "   "
      ],
      "metadata": {
        "id": "EWH_eW50990b"
      },
      "execution_count": null,
      "outputs": []
    },
    {
      "cell_type": "code",
      "source": [
        "x= float(input())\n",
        "\n",
        "if (x >=0 and x<=25):\n",
        "  print(\"Intervalo [0,25]\")\n",
        "elif (x>=25 and x<=50):\n",
        "  print(\"Intervalo [25,50]\")\n",
        "elif (x>=50 and x<=75):\n",
        "  print(\"Intervalo [50,75]\")\n",
        "elif (x>=75 and x<=100):\n",
        "  print(\"Intervalo [75,100]\")\n",
        "else:\n",
        "  print(\"Fora de intervalo\")\n",
        "\n"
      ],
      "metadata": {
        "id": "c2sTGxaKDqbn"
      },
      "execution_count": null,
      "outputs": []
    },
    {
      "cell_type": "code",
      "source": [
        "x= float(input())\n",
        "\n",
        "if x >=0 and x<=25:\n",
        "  print(\"Intervalo [0,25]\")\n",
        "elif x>=25 and x<=50:\n",
        "  print(\"Intervalo [25,50]\")\n",
        "elif x>=50 and x<=75:\n",
        "  print(\"Intervalo [50,75]\")\n",
        "elif x>=75 and x<=100:\n",
        "  print(\"Intervalo [75,100]\")\n",
        "else:\n",
        "  print(\"Fora de intervalo\")"
      ],
      "metadata": {
        "id": "Rrz8vCzf2W1A"
      },
      "execution_count": null,
      "outputs": []
    },
    {
      "cell_type": "code",
      "source": [
        "x = int(input(\"Digite o valor máximo (deve ser maior que 2) \"))\n",
        "i=2\n",
        "while i<=x:\n",
        "  print(\"%d ** %d = %d\" % (i,2,(i*i)))\n",
        "  i=i+2"
      ],
      "metadata": {
        "colab": {
          "base_uri": "https://localhost:8080/"
        },
        "id": "ooE45Pg7om4P",
        "outputId": "a033f952-ee66-41cb-f7b3-f57d5a2d7046"
      },
      "execution_count": null,
      "outputs": [
        {
          "output_type": "stream",
          "name": "stdout",
          "text": [
            "Digite o valor máximo (deve ser maior que 2) 6\n",
            "2 ** 2 = 4\n",
            "4 ** 2 = 16\n",
            "6 ** 2 = 36\n"
          ]
        }
      ]
    },
    {
      "cell_type": "code",
      "source": [
        "N= float(input())\n",
        "\n",
        "while N<0 and N>9:\n",
        "  print(\"valor invalido\")\n",
        "if N>0 or N<9:\n",
        "  if (N==1 or N==2):\n",
        "   print(\"Segunda feira\")\n",
        "else:\n",
        "  print(\"sexta feira\")"
      ],
      "metadata": {
        "id": "HVj1K2MtRXTp"
      },
      "execution_count": null,
      "outputs": []
    }
  ]
}