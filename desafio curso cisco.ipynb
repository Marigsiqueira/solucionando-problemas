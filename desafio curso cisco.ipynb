{
  "nbformat": 4,
  "nbformat_minor": 0,
  "metadata": {
    "colab": {
      "provenance": [],
      "authorship_tag": "ABX9TyPJJLzz4VPDqHPTxKPwFfVU",
      "include_colab_link": true
    },
    "kernelspec": {
      "name": "python3",
      "display_name": "Python 3"
    },
    "language_info": {
      "name": "python"
    }
  },
  "cells": [
    {
      "cell_type": "markdown",
      "metadata": {
        "id": "view-in-github",
        "colab_type": "text"
      },
      "source": [
        "<a href=\"https://colab.research.google.com/github/Marigsiqueira/solucionando-problemas/blob/main/desafio%20curso%20cisco.ipynb\" target=\"_parent\"><img src=\"https://colab.research.google.com/assets/colab-badge.svg\" alt=\"Open In Colab\"/></a>"
      ]
    },
    {
      "cell_type": "code",
      "execution_count": null,
      "metadata": {
        "colab": {
          "base_uri": "https://localhost:8080/"
        },
        "id": "q4wmsrCoJk8T",
        "outputId": "9eacaa7a-1e06-48f5-f2bc-1421687699a1"
      },
      "outputs": [
        {
          "output_type": "stream",
          "name": "stdout",
          "text": [
            "\n",
            "+================================+\n",
            "| Welcome to my game, muggle!    |\n",
            "| Enter an integer number        |\n",
            "| and guess what number I've     |\n",
            "| picked for you.                |\n",
            "| So, what is the secret number? |\n",
            "+================================+\n",
            "\n"
          ]
        }
      ],
      "source": [
        "#Um mágico júnior escolheu um número secreto. Ele escondeu-o numa variável chamada secret_number. Ele quer que todos os que executam o seu programa joguem o jogo do Adivinhe o número secreto, e adivinhe que número escolheu para eles. Aqueles que não adivinharem o número ficarão presos num loop infinito para sempre! Infelizmente, ele não sabe como completar o código.\n",
        "\n",
        "#A sua tarefa é ajudar o mágico a completar o código no editor, de modo a que o código:\n",
        "\n",
        "#peça ao utilizador para introduzir um número inteiro;\n",
        "#utilize um loop while ;\n",
        "#verifique se o número introduzido pelo utilizador é o mesmo que o número escolhido pelo mágico. Se o número escolhido pelo utilizador for diferente do número secreto do mágico, o utilizador deve ver a mensagem \"Ha ha! You're stuck in my loop!\" e ser solicitado a introduzir novamente um número. Se o número introduzido pelo utilizador corresponder ao número escolhido pelo mágico, o número deve ser impresso no ecrã,\n",
        "# e o mágico deve dizer as seguintes palavras: \"Well done, muggle! You are free now.\"\n",
        "\n",
        "\n",
        "secret_number = 777\n",
        "print(\n",
        "\"\"\"\n",
        "+================================+\n",
        "| Welcome to my game, muggle!    |\n",
        "| Enter an integer number        |\n",
        "| and guess what number I've     |\n",
        "| picked for you.                |\n",
        "| So, what is the secret number? |\n",
        "+================================+\n",
        "\"\"\")\n",
        "guessnumber= int(input(\"Digite um número: \"))\n",
        "while guessnumber != secret_number:\n",
        "    if guessnumber!= secret_number:\n",
        "        print(\"Você errou!\")\n",
        "        guessnumber= int(input(\"Digite um número: \"))\n",
        "print(\"Muito bem, você acertou!\")"
      ]
    }
  ]
}